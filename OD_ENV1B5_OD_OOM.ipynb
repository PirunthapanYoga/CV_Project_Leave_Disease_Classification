{
 "cells": [
  {
   "cell_type": "code",
   "execution_count": 1,
   "id": "indian-dairy",
   "metadata": {},
   "outputs": [],
   "source": [
    "import numpy as np\n",
    "import cv2\n",
    "import os\n",
    "from os import listdir\n",
    "import tensorflow as tf\n",
    "import pickle\n",
    "from sklearn.preprocessing import LabelBinarizer, MultiLabelBinarizer\n",
    "from sklearn.model_selection import train_test_split\n",
    "from tensorflow.keras.models import Sequential\n",
    "from tensorflow.keras.layers import BatchNormalization\n",
    "from tensorflow.keras.layers import Conv2D, MaxPooling2D\n",
    "from tensorflow.keras.layers import Activation, Flatten, Dropout, Dense, Reshape\n",
    "from tensorflow.keras.preprocessing.image import ImageDataGenerator\n",
    "from tensorflow.keras.preprocessing.image import img_to_array\n",
    "from tensorflow.keras.preprocessing import image\n",
    "from tensorflow.keras.callbacks import ModelCheckpoint, EarlyStopping\n",
    "from tensorflow.keras import regularizers\n",
    "import matplotlib.pyplot as plt"
   ]
  },
  {
   "cell_type": "code",
   "execution_count": 2,
   "id": "formed-response",
   "metadata": {},
   "outputs": [
    {
     "name": "stdout",
     "output_type": "stream",
     "text": [
      "Num GPUs Available:  1\n"
     ]
    }
   ],
   "source": [
    "print(\"Num GPUs Available: \", len(tf.config.list_physical_devices('GPU')))"
   ]
  },
  {
   "cell_type": "code",
   "execution_count": 3,
   "id": "completed-iraqi",
   "metadata": {},
   "outputs": [],
   "source": [
    "default_image_size = tuple((256, 256))\n",
    "resized_image_size = tuple((227,227))\n",
    "image_size = 0\n",
    "directory_root = 'E:\\\\PROJECT_MODIFIED\\\\Real_Image\\\\Resized\\\\227x227'"
   ]
  },
  {
   "cell_type": "code",
   "execution_count": 4,
   "id": "cognitive-rehabilitation",
   "metadata": {},
   "outputs": [],
   "source": [
    "# Function to convert image to array.\n",
    "def convert_image_to_array(image_dir):\n",
    "    try:\n",
    "        image = cv2.imread(image_dir)\n",
    "        if image is not None :\n",
    "            image = cv2.resize(image, resized_image_size)   \n",
    "            return img_to_array(image)\n",
    "        else :\n",
    "            return np.array([])\n",
    "    except Exception as e:\n",
    "        print(f\"Error : {e}\")\n",
    "        return None"
   ]
  },
  {
   "cell_type": "code",
   "execution_count": 5,
   "id": "fitted-triumph",
   "metadata": {
    "scrolled": true
   },
   "outputs": [
    {
     "name": "stdout",
     "output_type": "stream",
     "text": [
      "[INFO] Loading images ...\n",
      "[INFO] Processing BANANA_DISEASED_LEAF SPOT ...\n",
      "[INFO] Processing BANANA_HEALTHY ...\n",
      "[INFO] Processing BLACK-PEPPER_DISEASED_ANTHRACNOSE ...\n",
      "[INFO] Processing BLACK-PEPPER_HEALTHY ...\n",
      "[INFO] Processing BRINJAL_DISEASED_BLIGHT ...\n",
      "[INFO] Processing BRINJAL_DISEASED_COMPLEX ...\n",
      "[INFO] Processing BRINJAL_DISEASED_LEAF CURL ...\n",
      "[INFO] Processing BRINJAL_DISEASED_LEAF SPOT ...\n",
      "[INFO] Processing BRINJAL_DISEASED_MOSAIC ...\n",
      "[INFO] Processing BRINJAL_HEALTHY ...\n",
      "[INFO] Processing CABBAGE_HEALTHY ...\n",
      "[INFO] Processing CASAVA_HEALTHY ...\n",
      "[INFO] Processing CASSAVA_DISEASED_LEAF SPOT ...\n",
      "[INFO] Processing CASSAVA_DISEASED_MOSAIC ...\n",
      "[INFO] Processing CHILLI-PEPPER_CHLOROSIS ...\n",
      "[INFO] Processing CHILLI-PEPPER_DISEASED_LEAF CURL ...\n",
      "[INFO] Processing CHILLI-PEPPER_DISEASED_LEAF SPOT ...\n",
      "[INFO] Processing CHILLI-PEPPER_DISEASED_MOSIAC ...\n",
      "[INFO] Processing CHILLI-PEPPER_HEALTHY ...\n",
      "[INFO] Processing CITRUS_DISEASED_LEAVE SPOT ...\n",
      "[INFO] Processing CITRUS_DISEASED_MITE ...\n",
      "[INFO] Processing CITRUS_DISEASED_MOLD ...\n",
      "[INFO] Processing CITRUS_DISEASED_YELLOWING ...\n",
      "[INFO] Processing CITRUS_HEALTH ...\n",
      "[INFO] Processing GUAVA_DISEASED_BLIGHT ...\n",
      "[INFO] Processing GUAVA_DISEASED_HEALTHY ...\n",
      "[INFO] Processing GUAVA_DISEASED_LEAF SPOT ...\n",
      "[INFO] Processing GUAVA_DISEASED_PEST ...\n",
      "[INFO] Processing GUAVA_DISEASED_SOOTY MOLD ...\n",
      "[INFO] Processing GUAVA_DISEASES_ANTHRACNOSE ...\n",
      "[INFO] Processing OKRA_DISEASED_LEAF CUEL ...\n",
      "[INFO] Processing OKRA_DISEASED_LEAF SPOT ...\n",
      "[INFO] Processing OKRA_DISEASED_MOSAIC ...\n",
      "[INFO] Processing OKRA_HEALTHY ...\n",
      "[INFO] Processing PAPAYA_HEALTHY ...\n",
      "[INFO] Image loading completed!\n"
     ]
    }
   ],
   "source": [
    "# Reading the images from the dataset folder.\n",
    "image_list, label_list = [], []\n",
    "try:\n",
    "    print(\"[INFO] Loading images ...\")\n",
    "    root_dir = listdir(directory_root)\n",
    "    for directory in root_dir :\n",
    "        # remove .DS_Store from list\n",
    "        if directory == \".DS_Store\" :\n",
    "            root_dir.remove(directory)\n",
    "\n",
    "    for plant_folder in root_dir :\n",
    "        plant_disease_folder_list = listdir(f\"{directory_root}/{plant_folder}\")\n",
    "        \n",
    "        for disease_folder in plant_disease_folder_list :\n",
    "            # remove .DS_Store from list\n",
    "            if disease_folder == \".DS_Store\" :\n",
    "                plant_disease_folder_list.remove(disease_folder)\n",
    "\n",
    "        for plant_disease_folder in plant_disease_folder_list:\n",
    "            print(f\"[INFO] Processing {plant_disease_folder} ...\")\n",
    "            plant_disease_image_list = listdir(f\"{directory_root}/{plant_folder}/{plant_disease_folder}/\")\n",
    "                \n",
    "            for single_plant_disease_image in plant_disease_image_list :\n",
    "                if single_plant_disease_image == \".DS_Store\" :\n",
    "                    plant_disease_image_list.remove(single_plant_disease_image)\n",
    "\n",
    "            for image in plant_disease_image_list[:]:\n",
    "                image_directory = f\"{directory_root}/{plant_folder}/{plant_disease_folder}/{image}\"\n",
    "                if image_directory.endswith(\".jpg\") == True or image_directory.endswith(\".JPG\") == True:\n",
    "                    image_list.append(convert_image_to_array(image_directory))\n",
    "                    label_list.append(plant_disease_folder)\n",
    "    print(\"[INFO] Image loading completed!\")  \n",
    "except Exception as e:\n",
    "    print(f\"Error : {e}\")"
   ]
  },
  {
   "cell_type": "code",
   "execution_count": 6,
   "id": "afraid-greene",
   "metadata": {},
   "outputs": [],
   "source": [
    "# Assign the classes to images.\n",
    "label_binarizer = LabelBinarizer()\n",
    "image_labels = label_binarizer.fit_transform(label_list)\n",
    "n_classes = len(label_binarizer.classes_)"
   ]
  },
  {
   "cell_type": "code",
   "execution_count": 7,
   "id": "becoming-pepper",
   "metadata": {},
   "outputs": [
    {
     "name": "stdout",
     "output_type": "stream",
     "text": [
      "dict_keys(['BANANA_DISEASED_LEAF SPOT', 'BANANA_HEALTHY', 'BLACK-PEPPER_DISEASED_ANTHRACNOSE', 'BLACK-PEPPER_HEALTHY', 'BRINJAL_DISEASED_BLIGHT', 'BRINJAL_DISEASED_COMPLEX', 'BRINJAL_DISEASED_LEAF CURL', 'BRINJAL_DISEASED_LEAF SPOT', 'BRINJAL_DISEASED_MOSAIC', 'BRINJAL_HEALTHY', 'CABBAGE_HEALTHY', 'CASAVA_HEALTHY', 'CASSAVA_DISEASED_LEAF SPOT', 'CASSAVA_DISEASED_MOSAIC', 'CHILLI-PEPPER_CHLOROSIS', 'CHILLI-PEPPER_DISEASED_LEAF CURL', 'CHILLI-PEPPER_DISEASED_LEAF SPOT', 'CHILLI-PEPPER_DISEASED_MOSIAC', 'CHILLI-PEPPER_HEALTHY', 'CITRUS_DISEASED_LEAVE SPOT', 'CITRUS_DISEASED_MITE', 'CITRUS_DISEASED_MOLD', 'CITRUS_DISEASED_YELLOWING', 'CITRUS_HEALTH', 'GUAVA_DISEASED_BLIGHT', 'GUAVA_DISEASED_HEALTHY', 'GUAVA_DISEASED_LEAF SPOT', 'GUAVA_DISEASED_PEST', 'GUAVA_DISEASED_SOOTY MOLD', 'GUAVA_DISEASES_ANTHRACNOSE', 'OKRA_DISEASED_LEAF CUEL', 'OKRA_DISEASED_LEAF SPOT', 'OKRA_DISEASED_MOSAIC', 'OKRA_HEALTHY', 'PAPAYA_HEALTHY'])\n",
      "dict_values([38, 33, 22, 44, 7, 31, 18, 103, 16, 202, 83, 7, 23, 212, 22, 179, 14, 33, 72, 5, 123, 86, 88, 22, 6, 32, 51, 54, 27, 36, 1, 22, 85, 30, 17])\n"
     ]
    }
   ],
   "source": [
    "from collections import Counter\n",
    "print(Counter(label_list).keys() )\n",
    "print(Counter(label_list).values())"
   ]
  },
  {
   "cell_type": "code",
   "execution_count": 8,
   "id": "9c910de2",
   "metadata": {},
   "outputs": [
    {
     "name": "stdout",
     "output_type": "stream",
     "text": [
      "35\n"
     ]
    }
   ],
   "source": [
    "labels = len(label_binarizer.classes_)\n",
    "print(labels)"
   ]
  },
  {
   "cell_type": "code",
   "execution_count": null,
   "id": "amber-convention",
   "metadata": {},
   "outputs": [],
   "source": [
    "# Convert the array to a NumPy list and normalise it.\n",
    "np_image_list = np.array(image_list, dtype = np.float16) / 225.0\n",
    "print(\"Total Images\" , \" : \" ,len(np_image_list))\n",
    "del image_list"
   ]
  },
  {
   "cell_type": "code",
   "execution_count": null,
   "id": "cordless-prince",
   "metadata": {},
   "outputs": [],
   "source": [
    "print(\"[INFO] Spliting data into train set and test set ...\")\n",
    "x_train, x_test, y_train, y_test = train_test_split(np_image_list, image_labels, test_size = 0.2, random_state = 42) \n",
    "print(\"[INFO] Spliting complete!\")\n",
    "print(\"x_Train\" ,\" : \" , len(x_train))\n",
    "print(\"y_Train\" ,\" : \" , len(y_train))\n",
    "print(\"x_Test\" ,\" : \" , len(x_test))\n",
    "print(\"y_Test\" ,\" : \" , len(y_test))\n",
    "del np_image_list\n",
    "del image_labels"
   ]
  },
  {
   "cell_type": "code",
   "execution_count": null,
   "id": "d642f69a",
   "metadata": {},
   "outputs": [],
   "source": [
    "aug = ImageDataGenerator()"
   ]
  },
  {
   "cell_type": "code",
   "execution_count": null,
   "id": "4175a330",
   "metadata": {},
   "outputs": [],
   "source": [
    "import pandas as pd # data processing, CSV file I/O (e.g. pd.read_csv)\n",
    "\n",
    "import cv2\n",
    "import os, gc, sys, glob\n",
    "import pandas as pd\n",
    "import numpy as np\n",
    "from sklearn import model_selection\n",
    "from sklearn import metrics\n",
    "\n",
    "\n",
    "import keras\n",
    "from keras import optimizers\n",
    "from keras.models import Sequential\n",
    "from keras.layers import Dense, Dropout, Flatten\n",
    "from keras.layers import Conv2D, MaxPooling2D\n",
    "from keras.models import Model, load_model\n",
    "from keras import applications\n",
    "from keras.callbacks import ReduceLROnPlateau\n",
    "\n",
    "from keras.layers import LayerNormalization\n",
    "from keras.metrics import categorical_accuracy\n",
    "from keras.preprocessing.image import ImageDataGenerator\n",
    "from tensorflow.keras.optimizers import Adam"
   ]
  },
  {
   "cell_type": "code",
   "execution_count": null,
   "id": "e5247fdf",
   "metadata": {},
   "outputs": [],
   "source": [
    "img_rows, img_cols, img_channel = 227,227, 3\n",
    "\n",
    "base_model =tf.keras.applications.EfficientNetB5(\n",
    "    include_top=False,\n",
    "    input_shape=(img_rows, img_cols, img_channel),\n",
    "    pooling='avg',\n",
    ")\n",
    "\n",
    "print(base_model.summary())\n"
   ]
  },
  {
   "cell_type": "code",
   "execution_count": null,
   "id": "1005a75d",
   "metadata": {},
   "outputs": [],
   "source": [
    "outputs = tf.keras.layers.Dense(labels, activation='softmax')(base_model.output)\n",
    "model = tf.keras.Model(inputs=base_model.input, outputs=outputs)"
   ]
  },
  {
   "cell_type": "code",
   "execution_count": null,
   "id": "4b6916ef",
   "metadata": {},
   "outputs": [],
   "source": [
    "MODEL_NAME = \"OD_ENV1B5_AD.h5\""
   ]
  },
  {
   "cell_type": "code",
   "execution_count": null,
   "id": "governmental-lemon",
   "metadata": {
    "scrolled": false
   },
   "outputs": [],
   "source": [
    "EPOCHS = 100\n",
    "INIT_LR = 1e-4\n",
    "Decay = 1e-5\n",
    "\n",
    "# compile the model\n",
    "opt = opt = tf.keras.optimizers.Adam(learning_rate=INIT_LR)\n",
    "\n",
    "model.compile(loss='categorical_crossentropy',metrics=['accuracy'],optimizer=opt)\n",
    "\n",
    "print(\"[INFO] Training network...\")\n",
    "\n",
    "# Train\n",
    "checkpoint = ModelCheckpoint(MODEL_NAME, monitor = 'val_accuracy', verbose = 1, save_best_only = True, save_weights_only = False, mode = 'max')\n",
    "\n",
    "\n",
    "history = model.fit(\n",
    "    aug.flow(x_train, y_train, shuffle = False),\n",
    "    validation_data = (x_test, y_test),\n",
    "    validation_freq=1,\n",
    "    batch_size = 32,\n",
    "    callbacks = [checkpoint],\n",
    "    epochs = EPOCHS,)"
   ]
  },
  {
   "cell_type": "code",
   "execution_count": null,
   "id": "224cf356",
   "metadata": {},
   "outputs": [],
   "source": [
    "import matplotlib.pyplot as plt\n",
    "from matplotlib.pyplot import figure\n",
    "plt.rcParams.update({'font.size': 20})\n",
    "\n",
    "plt.figure(figsize=(25, 15))\n",
    "xmin = 0\n",
    "xmax = 100\n",
    "ymin = 0.0\n",
    "ymax = 1.0\n",
    "acc = history.history['accuracy']\n",
    "val_acc = history.history['val_accuracy']\n",
    "\n",
    "epochs = range(len(acc))\n",
    "    \n",
    "axes = plt.gca()\n",
    "axes.set_xlim([xmin,xmax])\n",
    "axes.set_ylim([ymin,ymax])\n",
    "\n",
    "plt.plot(epochs, acc, 'g--', label = 'Training accuracy')\n",
    "plt.plot(epochs, val_acc, 'g', label = 'Validation accuracy')\n",
    "plt.title('Training and validation Accuracy')\n",
    "plt.legend(bbox_to_anchor=(1, 0.2))\n",
    "\n",
    "plt.grid()\n",
    "plt.show()"
   ]
  },
  {
   "cell_type": "code",
   "execution_count": null,
   "id": "53c6abb4",
   "metadata": {},
   "outputs": [],
   "source": [
    "import matplotlib.pyplot as plt\n",
    "from matplotlib.pyplot import figure\n",
    "plt.rcParams.update({'font.size': 20})\n",
    "\n",
    "plt.figure(figsize=(25, 15))\n",
    "    #Plot the Result\n",
    "xmin = 0\n",
    "xmax = 100\n",
    "ymin = 0.0\n",
    "ymax = 3.0\n",
    "\n",
    "loss = history.history['loss']\n",
    "val_loss = history.history['val_loss']\n",
    "\n",
    "epochs = range(len(acc))\n",
    "    \n",
    "axes = plt.gca()\n",
    "axes.set_xlim([xmin,xmax])\n",
    "axes.set_ylim([ymin,ymax])\n",
    "\n",
    "plt.plot(epochs, loss, 'r--', label = 'Training Loss')\n",
    "plt.plot(epochs, val_loss, 'r', label = 'Validation Loss')\n",
    "plt.title('Training and validation loss' , fontsize=15)\n",
    "plt.legend(fontsize=15, bbox_to_anchor=(1, 0.2))\n",
    "\n",
    "plt.grid()\n",
    "plt.show()"
   ]
  },
  {
   "cell_type": "code",
   "execution_count": null,
   "id": "banner-tragedy",
   "metadata": {},
   "outputs": [],
   "source": [
    "model = load_model(MODEL_NAME)\n",
    "print(\"[INFO] Calculating model accuracy\")\n",
    "scores = model.evaluate(x_test, y_test)\n",
    "print(f\"Test Accuracy: {scores[1]*100}\")"
   ]
  },
  {
   "cell_type": "code",
   "execution_count": null,
   "id": "283faf8c",
   "metadata": {},
   "outputs": [],
   "source": []
  }
 ],
 "metadata": {
  "kernelspec": {
   "display_name": "Python 3 (ipykernel)",
   "language": "python",
   "name": "python3"
  },
  "language_info": {
   "codemirror_mode": {
    "name": "ipython",
    "version": 3
   },
   "file_extension": ".py",
   "mimetype": "text/x-python",
   "name": "python",
   "nbconvert_exporter": "python",
   "pygments_lexer": "ipython3",
   "version": "3.8.0"
  }
 },
 "nbformat": 4,
 "nbformat_minor": 5
}
